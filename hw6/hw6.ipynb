{
 "cells": [
  {
   "cell_type": "code",
   "execution_count": null,
   "metadata": {},
   "outputs": [],
   "source": [
    "pf1 = set(input().split(','))\n",
    "pf2 = set(input().split(','))\n",
    "pf3 = set(input().split(','))\n",
    "\n",
    "result1=list(pf1 & pf2 & pf3)\n",
    "allstocks=pf1 | pf2 | pf3\n",
    "\n",
    "result2=[]\n",
    "\n",
    "for product in allstocks:\n",
    "    cnt=0\n",
    "\n",
    "    for pf in [pf1, pf2, pf3]:\n",
    "        if product in pf:\n",
    "            cnt+=1\n",
    "\n",
    "    if cnt==1:\n",
    "        result2.append(product)\n",
    "\n",
    "result2.sort()\n",
    "\n",
    "print(result1)\n",
    "print(result2)"
   ]
  },
  {
   "cell_type": "code",
   "execution_count": null,
   "metadata": {},
   "outputs": [],
   "source": [
    "def get_max_int(*args,**kwargs):  \n",
    "    lst=[]  \n",
    "  \n",
    "    for arg in args:  \n",
    "        if type(arg)==int:  \n",
    "            lst.append(arg)  \n",
    "        elif type(arg)==dict:  \n",
    "            for i in arg.values():  \n",
    "                if type(i)==int:  \n",
    "                    lst.append(i)  \n",
    "  \n",
    "    for i in kwargs.values():  \n",
    "        if type(i)==int:  \n",
    "            lst.append(i)  \n",
    "  \n",
    "    return max(lst)  \n",
    "  \n",
    "if __name__==\"__main__\":  \n",
    "    test()  "
   ]
  },
  {
   "cell_type": "code",
   "execution_count": null,
   "metadata": {},
   "outputs": [],
   "source": [
    "def str_dic(st):\n",
    "    dit={}\n",
    "    chars=st.split(',')\n",
    "    for char in chars:\n",
    "        if char in dit:\n",
    "            dit[char]+=1\n",
    "        else:\n",
    "            dit[char]=1\n",
    "    return dit\n",
    "def test():\n",
    "    instr = input()\n",
    "    print(str_dic(instr))\n",
    "if __name__==\"__main__\":\n",
    "    test()"
   ]
  }
 ],
 "metadata": {
  "language_info": {
   "name": "python"
  }
 },
 "nbformat": 4,
 "nbformat_minor": 2
}
