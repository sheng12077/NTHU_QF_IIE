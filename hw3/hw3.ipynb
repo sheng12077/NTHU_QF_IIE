{
 "cells": [
  {
   "cell_type": "markdown",
   "metadata": {},
   "source": [
    "# 作業3 (需etutor驗證後，再繳交hw3.ipynb 至eeclass)"
   ]
  },
  {
   "cell_type": "markdown",
   "metadata": {},
   "source": [
    "## 1. 電影票\n",
    "\n",
    "問題描述：電影票通常由偶數位組成，如果非偶數位組成則視為廢票。此外，如果前半部分數字的總和等於後半部分數字的總和，則認為票號是幸運的。\n",
    "        \n",
    "輸入範例：輸入一串數字（組內所含數字個數>0且<100）。\n",
    "\n",
    "輸出範例：如果非偶數位組成，則輸出'Wrong'。如果偶數位組成，則計算前半部份數字和後半數字的個數相加總和是否相等，相等輸出'Lucky'，不相等' Unlucky'。"
   ]
  },
  {
   "cell_type": "code",
   "execution_count": 35,
   "metadata": {},
   "outputs": [
    {
     "name": "stdout",
     "output_type": "stream",
     "text": [
      "123060\n",
      "Lucky\n"
     ]
    }
   ],
   "source": [
    "s=str(input())\n",
    "a=0\n",
    "b=0\n",
    "k=len(s)//2\n",
    "if len(s)%2!=0:\n",
    "    print(\"Wrong\")\n",
    "else:\n",
    "    for i in range(0,k,1):\n",
    "        a+=int(s[i])\n",
    "        b+=int(s[len(s)-i-1])\n",
    "    print(\"Lucky\") if a==b else print(\"Unlucky\")"
   ]
  },
  {
   "cell_type": "markdown",
   "metadata": {},
   "source": [
    "## 2. 計算正整數被4整除之數值之總和\n",
    "問題描述：\n",
    "\n",
    "試寫一個程式，輸入一正整數N，可計算出1到N之間可被4整除的數值之總和。\n",
    "\n",
    "輸入說明：\n",
    "\n",
    "輸入一正整數。\n",
    "\n",
    "輸出說明：\n",
    "\n",
    "輸出總和。"
   ]
  },
  {
   "cell_type": "code",
   "execution_count": 24,
   "metadata": {},
   "outputs": [
    {
     "name": "stdout",
     "output_type": "stream",
     "text": [
      "16\n",
      "40\n"
     ]
    }
   ],
   "source": [
    "n=int(input())\n",
    "ans=0\n",
    "for i in range(0,n+1,4):\n",
    "    ans+=i\n",
    "print(ans)"
   ]
  },
  {
   "cell_type": "markdown",
   "metadata": {},
   "source": [
    "## 3.停車費計算:\n",
    "\n",
    "問題描述：\n",
    "假設某個停車場的費率是停車2小時以內，每半小時40元，超過2小時，但未滿4小時的部份，每半小時50元，超過4小時以上的部份，每半小時60元，未滿半小時部分不計費。如果您從早上10點23分停到下午3點20分，請撰寫程式計算共需繳交的停車費。（以24小時制為準，格式為：00:00，且不過夜。）\n",
    "\n",
    "輸入說明：\n",
    "輸入兩組時間，分別為開始與離開時間，24小時制。\n",
    "\n",
    "輸出說明：\n",
    "輸出停車費。\n"
   ]
  },
  {
   "cell_type": "code",
   "execution_count": 115,
   "metadata": {},
   "outputs": [
    {
     "name": "stdout",
     "output_type": "stream",
     "text": [
      "10:10\n",
      "15:08\n",
      "420\n"
     ]
    }
   ],
   "source": [
    "h1,m1=input().split(\":\")\n",
    "h2,m2=input().split(\":\")\n",
    "h1,h2,m1,m2=int(h1),int(h2),int(m1),int(m2)\n",
    "t=h2*60-h1*60+m2-m1\n",
    "if t<120:\n",
    "    print((t//30)*40)\n",
    "elif 120<=t<240:\n",
    "    print(160+((t-120)//30)*50)\n",
    "else:\n",
    "    print(360+((t-240)//30)*60)   "
   ]
  },
  {
   "cell_type": "markdown",
   "metadata": {},
   "source": [
    "## 4.求n階層\n",
    "問題描述：\n",
    "寫一個程式，求n!\n",
    "\n",
    "輸入範例：輸入一個正整數n\n",
    "\n",
    "輸出範例：輸出n!"
   ]
  },
  {
   "cell_type": "code",
   "execution_count": 3,
   "metadata": {},
   "outputs": [
    {
     "name": "stdout",
     "output_type": "stream",
     "text": [
      "5\n",
      "120\n"
     ]
    }
   ],
   "source": [
    "n=int(input())\n",
    "ans=1\n",
    "while n>0:\n",
    "    ans*=n\n",
    "    n-=1\n",
    "print(ans)"
   ]
  },
  {
   "cell_type": "markdown",
   "metadata": {},
   "source": [
    "## 5.找兩個正整數的最大公因數及最小公倍數\n",
    "\n",
    "問題描述：寫一個程式，求兩個正整數的最大公因數及最小公倍數。\n",
    "\n",
    "輸入範例：輸入兩個正整數，第一行輸入第一個，第二行輸入第二個。\n",
    "\n",
    "輸出範例：輸出一行兩數的最大公因數和最小公倍數。"
   ]
  },
  {
   "cell_type": "code",
   "execution_count": 89,
   "metadata": {},
   "outputs": [
    {
     "name": "stdout",
     "output_type": "stream",
     "text": [
      "56\n",
      "34\n",
      "2 952\n"
     ]
    }
   ],
   "source": [
    "def gcd(a,b):\n",
    "    while b>0:\n",
    "        tmp=b\n",
    "        b=a%b\n",
    "        a=tmp\n",
    "    return a\n",
    "c=int(input())\n",
    "d=int(input())\n",
    "print(gcd(c,d),c*d//gcd(c,d))"
   ]
  }
 ],
 "metadata": {
  "kernelspec": {
   "display_name": "Python 3",
   "language": "python",
   "name": "python3"
  },
  "language_info": {
   "codemirror_mode": {
    "name": "ipython",
    "version": 3
   },
   "file_extension": ".py",
   "mimetype": "text/x-python",
   "name": "python",
   "nbconvert_exporter": "python",
   "pygments_lexer": "ipython3",
   "version": "3.8.5"
  },
  "varInspector": {
   "cols": {
    "lenName": 16,
    "lenType": 16,
    "lenVar": 40
   },
   "kernels_config": {
    "python": {
     "delete_cmd_postfix": "",
     "delete_cmd_prefix": "del ",
     "library": "var_list.py",
     "varRefreshCmd": "print(var_dic_list())"
    },
    "r": {
     "delete_cmd_postfix": ") ",
     "delete_cmd_prefix": "rm(",
     "library": "var_list.r",
     "varRefreshCmd": "cat(var_dic_list()) "
    }
   },
   "types_to_exclude": [
    "module",
    "function",
    "builtin_function_or_method",
    "instance",
    "_Feature"
   ],
   "window_display": false
  }
 },
 "nbformat": 4,
 "nbformat_minor": 5
}
