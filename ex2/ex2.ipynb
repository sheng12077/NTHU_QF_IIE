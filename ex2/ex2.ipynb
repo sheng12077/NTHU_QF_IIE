{
 "cells": [
  {
   "cell_type": "markdown",
   "metadata": {},
   "source": [
    "# 課堂實作 (需etutor驗證後，再繳交ex2.ipynb 至eeclass)"
   ]
  },
  {
   "cell_type": "markdown",
   "metadata": {},
   "source": [
    "## ex2-1:判斷座標是否在圓形的範圍內\n",
    "問題描述：\n",
    "有一圓形，直徑為200，且中心座標為(0,0)。請寫一支程式可以輸入「點」的座標，並判斷「點」是否在圓形的範圍內。如果「點」的位置剛好在邊界的話也算是在圓形範圍內(例：x=100，y=0)。\n",
    "\n",
    "\n",
    "輸入說明：\n",
    "輸入一整數座標，第一行輸入x值，第二行輸入y值。\n",
    "\n",
    "\n",
    "輸出說明：\n",
    "輸出此座標位置在圓內或圓外訊息。"
   ]
  },
  {
   "cell_type": "code",
   "execution_count": null,
   "metadata": {},
   "outputs": [],
   "source": [
    "x=float(input())  \n",
    "y=float(input())  \n",
    "print(\"inside\") if x**2+y**2<=10000 else print(\"outside\")  "
   ]
  },
  {
   "cell_type": "markdown",
   "metadata": {},
   "source": [
    "## ex2-2:成績\n",
    "問題描述:請輸入一個學生的成績，由程式判斷若成績在\n",
    "\n",
    "•90分(含)以上，請輸出“A”\n",
    "\n",
    "•75~89分之間，請輸出“B”\n",
    "\n",
    "•60~74分之間，請輸出“C”\n",
    "\n",
    "•59分以下，請輸出“F”\n",
    "\n",
    "輸入說明：輸入一整數成績score"
   ]
  },
  {
   "cell_type": "code",
   "execution_count": null,
   "metadata": {},
   "outputs": [],
   "source": [
    "n=int(input())\n",
    "if n>=90:\n",
    "    print(\"A\")\n",
    "elif (n>=75):\n",
    "    print(\"B\")\n",
    "elif (n>=60):\n",
    "    print(\"C\")\n",
    "else:\n",
    "    print(\"F\")"
   ]
  }
 ],
 "metadata": {
  "kernelspec": {
   "display_name": "Python 3",
   "language": "python",
   "name": "python3"
  },
  "language_info": {
   "codemirror_mode": {
    "name": "ipython",
    "version": 3
   },
   "file_extension": ".py",
   "mimetype": "text/x-python",
   "name": "python",
   "nbconvert_exporter": "python",
   "pygments_lexer": "ipython3",
   "version": "3.8.5"
  },
  "varInspector": {
   "cols": {
    "lenName": 16,
    "lenType": 16,
    "lenVar": 40
   },
   "kernels_config": {
    "python": {
     "delete_cmd_postfix": "",
     "delete_cmd_prefix": "del ",
     "library": "var_list.py",
     "varRefreshCmd": "print(var_dic_list())"
    },
    "r": {
     "delete_cmd_postfix": ") ",
     "delete_cmd_prefix": "rm(",
     "library": "var_list.r",
     "varRefreshCmd": "cat(var_dic_list()) "
    }
   },
   "types_to_exclude": [
    "module",
    "function",
    "builtin_function_or_method",
    "instance",
    "_Feature"
   ],
   "window_display": false
  }
 },
 "nbformat": 4,
 "nbformat_minor": 5
}
