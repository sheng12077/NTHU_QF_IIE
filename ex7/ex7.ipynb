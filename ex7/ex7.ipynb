{
 "cells": [
  {
   "cell_type": "code",
   "execution_count": null,
   "metadata": {},
   "outputs": [],
   "source": [
    "#ex7-1:\n",
    "import math\n",
    "def test():\n",
    "    a = int(input())\n",
    "    b = int(input())\n",
    "    c = int(input())\n",
    "    print(eq2(a,b,c))\n",
    "\n",
    "\n",
    "def eq2(a,b,c):\n",
    "    if b**2-4*a*c < 0:\n",
    "        return \"no answer\"\n",
    "    else:\n",
    "        if (-b+math.sqrt(b**2-4*a*c))/(2*a)>0:\n",
    "            root1=math.floor((-b+math.sqrt(b**2-4*a*c))/(2*a)*10000)/10000\n",
    "        else:\n",
    "            root1=math.ceil((-b+math.sqrt(b**2-4*a*c))/(2*a)*10000)/10000\n",
    "        if (-b-math.sqrt(b**2-4*a*c))/(2*a)>0:\n",
    "            root2=math.floor((-b-math.sqrt(b**2-4*a*c))/(2*a)*10000)/10000\n",
    "        else:\n",
    "            root2=math.ceil((-b-math.sqrt(b**2-4*a*c))/(2*a)*10000)/10000\n",
    "        # root1=math.floor((-b+math.sqrt(b**2-4*a*c))/(2*a)*10000)/10000\n",
    "        # root2=math.floor((-b-math.sqrt(b**2-4*a*c))/(2*a)*10000)/10000\n",
    "        return \"('{:.4f}', '{:.4f}')\".format(root1, root2)\n",
    "\n",
    "    \n",
    "if __name__==\"__main__\":\n",
    "    test()\n"
   ]
  },
  {
   "cell_type": "code",
   "execution_count": null,
   "metadata": {},
   "outputs": [],
   "source": [
    "#ex7-2\n",
    "def test():  \n",
    "    a = float(input())  \n",
    "    d = float(input())  \n",
    "    t = float(input())  \n",
    "    print(tree(a,d,t))  \n",
    "  \n",
    "import math  \n",
    "def tree(a,d,t):  \n",
    "    return round((t/100+d*math.tan(a*math.pi/180)),2)  \n",
    "  \n",
    "  \n",
    "if __name__==\"__main__\":  \n",
    "    test()  "
   ]
  },
  {
   "cell_type": "code",
   "execution_count": 39,
   "metadata": {},
   "outputs": [
    {
     "name": "stdout",
     "output_type": "stream",
     "text": [
      "Group 1:[7, 8, 10, 11, 14], Leader:11\n",
      "Group 2:[1, 3, 6, 9, 13], Leader:13\n",
      "Group 3:[2, 4, 5, 12], Leader:12\n"
     ]
    }
   ],
   "source": [
    "#ex7-3\n",
    "import random as rd\n",
    "import math as ma\n",
    "\n",
    "def grouping(n,m):\n",
    "    people=list(range(1,n+1)) #build the list from 1 to n\n",
    "    rd.shuffle(people)  #shuffle the list, random.shuffle means to sort the list randomly\n",
    "    \n",
    "    groups=[]\n",
    "    group_size=ma.ceil(n/m)   #ceil() 向上取整\n",
    "\n",
    "    #想法:先把前m-1组的人分好，最后一组的人單獨處理\n",
    "    #前面先用random.shuffle()把所有人打亂，再用group_size把人分成m組\n",
    "    for i in range(m-1):\n",
    "        start=i*group_size\n",
    "        end=(i+1)*group_size\n",
    "        group=people[start:end]\n",
    "        groups.append(sorted(group))\n",
    "    \n",
    "    last_group=people[(m-1)*group_size:]  #the last group arr[n:] means from n to the end\n",
    "    groups.append(sorted(last_group))\n",
    "    \n",
    "\n",
    "    for i in range(len(groups)):\n",
    "        group=groups[i]\n",
    "        leader=rd.choice(groups[i])\n",
    "        print(f\"Group {i+1}:{groups[i]}, Leader:{leader}\")\n",
    "\n",
    "grouping(14,3)"
   ]
  },
  {
   "cell_type": "code",
   "execution_count": 47,
   "metadata": {},
   "outputs": [
    {
     "name": "stdout",
     "output_type": "stream",
     "text": [
      "(17, 17, 3.42, 11.67)\n"
     ]
    }
   ],
   "source": [
    "#ex7-4\n",
    "import statistics as st\n",
    "def test():\n",
    "    inp=input().split(',')\n",
    "    lst=list(map(int,inp)) \n",
    "    print(count(lst))\n",
    "    \n",
    "\n",
    "def count(lst):\n",
    "    return round(st.mean(lst)), round(st.median(lst)), round(st.pstdev(lst),2), round(st.pvariance(lst),2)\n",
    "\n",
    "    \n",
    "if __name__==\"__main__\":\n",
    "    test()"
   ]
  }
 ],
 "metadata": {
  "kernelspec": {
   "display_name": "Python 3",
   "language": "python",
   "name": "python3"
  },
  "language_info": {
   "codemirror_mode": {
    "name": "ipython",
    "version": 3
   },
   "file_extension": ".py",
   "mimetype": "text/x-python",
   "name": "python",
   "nbconvert_exporter": "python",
   "pygments_lexer": "ipython3",
   "version": "3.8.10"
  },
  "varInspector": {
   "cols": {
    "lenName": 16,
    "lenType": 16,
    "lenVar": 40
   },
   "kernels_config": {
    "python": {
     "delete_cmd_postfix": "",
     "delete_cmd_prefix": "del ",
     "library": "var_list.py",
     "varRefreshCmd": "print(var_dic_list())"
    },
    "r": {
     "delete_cmd_postfix": ") ",
     "delete_cmd_prefix": "rm(",
     "library": "var_list.r",
     "varRefreshCmd": "cat(var_dic_list()) "
    }
   },
   "types_to_exclude": [
    "module",
    "function",
    "builtin_function_or_method",
    "instance",
    "_Feature"
   ],
   "window_display": false
  }
 },
 "nbformat": 4,
 "nbformat_minor": 5
}
