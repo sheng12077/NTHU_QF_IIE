{
 "cells": [
  {
   "cell_type": "markdown",
   "metadata": {},
   "source": [
    "# 作業2 (需etutor驗證後，再繳交hw2.ipynb 至eeclass)"
   ]
  },
  {
   "cell_type": "markdown",
   "metadata": {},
   "source": [
    "輸入 a,b,c 三個值（a>0,c為整數,a和b可為整數和浮點數），並依需輸出以下要求：\n",
    "\n",
    "1.輸出 3 的 a 次方是否大於 b 的 4 次方(True or False)"
   ]
  },
  {
   "cell_type": "code",
   "execution_count": null,
   "metadata": {},
   "outputs": [],
   "source": [
    "a = float(input())\n",
    "b = float(input())\n",
    "c = int(input())\n",
    "if 3**a>b**4:\n",
    "    print(\"True\")\n",
    "else:\n",
    "    print(\"False\")"
   ]
  },
  {
   "cell_type": "markdown",
   "metadata": {},
   "source": [
    "輸入 a,b,c 三個值（a>0,c為整數,a和b可為整數和浮點數），並依需輸出以下要求：\n",
    "\n",
    "2.輸出 $f(x) = ax^2+bx+c$ 之方程式的頂點的x值(四捨五入至小數第二位)\n",
    "\n",
    "3.輸出 $f(x) = ax^2+bx+c$ 之方程式的頂點的y值(四捨五入至小數第二位)"
   ]
  },
  {
   "cell_type": "code",
   "execution_count": null,
   "metadata": {},
   "outputs": [],
   "source": [
    "a = float(input())\n",
    "b = float(input())\n",
    "c = int(input())\n",
    "print(round(-b/(2*a),2))\n",
    "print(round(((4*a*c)-(b**2))/(4*a),2))\n"
   ]
  },
  {
   "cell_type": "markdown",
   "metadata": {},
   "source": [
    "輸入 a,b,c 三個值（a>0,c為整數,a和b可為整數和浮點數），並依需輸出以下要求：\n",
    "\n",
    "4.以 a 為首項，b 為等差，c 為項數，輸出等差級數之和 (四捨五入至小數第二位)"
   ]
  },
  {
   "cell_type": "code",
   "execution_count": null,
   "metadata": {},
   "outputs": [],
   "source": [
    "a = float(input())\n",
    "b = float(input())\n",
    "c = int(input())\n",
    "print(round((a + (a+(c-1)*b))*c/2,2))\n"
   ]
  },
  {
   "cell_type": "markdown",
   "metadata": {},
   "source": [
    "輸入 a,b,c 三個值（a>0,c為整數,a和b可為整數和浮點數），並依需輸出以下要求：\n",
    "\n",
    "5.輸出 c 值中，是否有 a 這個數字\n"
   ]
  },
  {
   "cell_type": "code",
   "execution_count": null,
   "metadata": {},
   "outputs": [],
   "source": [
    "a = str(input())\n",
    "b = str(input())\n",
    "c = str(input())\n",
    "\n",
    "if a in c:\n",
    "    print(True)\n",
    "else:\n",
    "    print(False)\n"
   ]
  },
  {
   "cell_type": "markdown",
   "metadata": {},
   "source": [
    "輸入 a,b,c 三個值（a>0,c為整數,a和b可為整數和浮點數），並依需輸出以下要求：\n",
    "\n",
    "6.輸出 c 元換成 10,5,1元硬幣且總和硬幣數最少，10元所需的數量 (整數)\n",
    "\n",
    "7.輸出 c 元換成 10,5,1元硬幣且總和硬幣數最少，5元所需的數量 (整數)\n",
    "\n",
    "8.輸出 c 元換成 10,5,1元硬幣且總和硬幣數最少，1元所需的數量 (整數)"
   ]
  },
  {
   "cell_type": "code",
   "execution_count": null,
   "metadata": {},
   "outputs": [],
   "source": [
    "a = float(input())\n",
    "b = float(input())\n",
    "c = int(input())\n",
    "print(int((c/10)))\n",
    "print(int((c%10)/5))\n",
    "print(int((c%10)%5))"
   ]
  }
 ],
 "metadata": {
  "kernelspec": {
   "display_name": "Python 3",
   "language": "python",
   "name": "python3"
  },
  "language_info": {
   "codemirror_mode": {
    "name": "ipython",
    "version": 3
   },
   "file_extension": ".py",
   "mimetype": "text/x-python",
   "name": "python",
   "nbconvert_exporter": "python",
   "pygments_lexer": "ipython3",
   "version": "3.8.5"
  },
  "varInspector": {
   "cols": {
    "lenName": 16,
    "lenType": 16,
    "lenVar": 40
   },
   "kernels_config": {
    "python": {
     "delete_cmd_postfix": "",
     "delete_cmd_prefix": "del ",
     "library": "var_list.py",
     "varRefreshCmd": "print(var_dic_list())"
    },
    "r": {
     "delete_cmd_postfix": ") ",
     "delete_cmd_prefix": "rm(",
     "library": "var_list.r",
     "varRefreshCmd": "cat(var_dic_list()) "
    }
   },
   "types_to_exclude": [
    "module",
    "function",
    "builtin_function_or_method",
    "instance",
    "_Feature"
   ],
   "window_display": false
  }
 },
 "nbformat": 4,
 "nbformat_minor": 5
}
