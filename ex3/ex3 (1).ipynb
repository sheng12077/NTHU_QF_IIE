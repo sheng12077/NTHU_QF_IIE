{
 "cells": [
  {
   "cell_type": "markdown",
   "metadata": {},
   "source": [
    "# 課堂實作 (需etutor驗證後，再繳交ex3.ipynb 至eeclass)"
   ]
  },
  {
   "cell_type": "markdown",
   "metadata": {},
   "source": [
    "## ex3\n",
    "問題描述：迴文是指從前面讀和從後面讀都相同的一個數字或一段文字。例如下列的整數或字串都是迴文： 123321 ， 55555 ， 45554 ， 11611 ，ABCBA，12acKKca21。請撰寫一個程式，判斷它是否迴文。\n",
    "\n",
    "輸入說明：輸入一個正整數或字串\n",
    "\n",
    "輸出說明：迴文印出 “YES” ；非迴文印出 “NO” !"
   ]
  },
  {
   "cell_type": "markdown",
   "metadata": {},
   "source": [
    "## ex3.1 - using \"for\" loop"
   ]
  },
  {
   "cell_type": "code",
   "execution_count": null,
   "metadata": {},
   "outputs": [],
   "source": [
    "a=str(input())\n",
    "l=len(a)\n",
    "flag=True\n",
    "for i in range(l//2):\n",
    "    if a[i]!=a[l-i-1]:\n",
    "        flag=False\n",
    "print(\"YES\") if flag else print(\"NO\")"
   ]
  },
  {
   "cell_type": "markdown",
   "metadata": {},
   "source": [
    "## ex3.2 - using \"while\" loop"
   ]
  },
  {
   "cell_type": "code",
   "execution_count": null,
   "metadata": {},
   "outputs": [],
   "source": [
    "a=str(input())\n",
    "l=len(a)\n",
    "flag=True\n",
    "i=0\n",
    "while i<l//2:\n",
    "    if a[i]!=a[l-i-1]:\n",
    "        flag=False\n",
    "    i+=1\n",
    "print(\"YES\") if flag else print(\"NO\")"
   ]
  },
  {
   "cell_type": "markdown",
   "metadata": {},
   "source": [
    "## ex.3.3 without \"for\" or \"while\" loop"
   ]
  },
  {
   "cell_type": "code",
   "execution_count": null,
   "metadata": {},
   "outputs": [],
   "source": [
    "\n",
    "a=str(input())\n",
    "b=a[::-1]\n",
    "if a==b:\n",
    "    print(\"YES\")\n",
    "else:\n",
    "    print(\"NO\")"
   ]
  }
 ],
 "metadata": {
  "kernelspec": {
   "display_name": "Python 3",
   "language": "python",
   "name": "python3"
  },
  "language_info": {
   "codemirror_mode": {
    "name": "ipython",
    "version": 3
   },
   "file_extension": ".py",
   "mimetype": "text/x-python",
   "name": "python",
   "nbconvert_exporter": "python",
   "pygments_lexer": "ipython3",
   "version": "3.8.5"
  },
  "varInspector": {
   "cols": {
    "lenName": 16,
    "lenType": 16,
    "lenVar": 40
   },
   "kernels_config": {
    "python": {
     "delete_cmd_postfix": "",
     "delete_cmd_prefix": "del ",
     "library": "var_list.py",
     "varRefreshCmd": "print(var_dic_list())"
    },
    "r": {
     "delete_cmd_postfix": ") ",
     "delete_cmd_prefix": "rm(",
     "library": "var_list.r",
     "varRefreshCmd": "cat(var_dic_list()) "
    }
   },
   "types_to_exclude": [
    "module",
    "function",
    "builtin_function_or_method",
    "instance",
    "_Feature"
   ],
   "window_display": false
  }
 },
 "nbformat": 4,
 "nbformat_minor": 5
}
