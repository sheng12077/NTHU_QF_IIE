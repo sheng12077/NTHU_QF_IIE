{
 "cells": [
  {
   "cell_type": "markdown",
   "metadata": {},
   "source": [
    "# ex4_1:串列的函式與方法(function and method)\n",
    "### 將講義上的範例實際練習一次"
   ]
  },
  {
   "cell_type": "code",
   "execution_count": null,
   "metadata": {},
   "outputs": [],
   "source": [
    "lst1=[10,20,30,40,50]"
   ]
  },
  {
   "cell_type": "code",
   "execution_count": null,
   "metadata": {},
   "outputs": [],
   "source": [
    "num=len(lst1)\n",
    "print(num)"
   ]
  },
  {
   "cell_type": "code",
   "execution_count": null,
   "metadata": {},
   "outputs": [],
   "source": [
    "total=0\n",
    "for i in range(len(lst1)):\n",
    "    total+=lst1[i]"
   ]
  },
  {
   "cell_type": "code",
   "execution_count": null,
   "metadata": {},
   "outputs": [],
   "source": [
    "total"
   ]
  },
  {
   "cell_type": "markdown",
   "metadata": {},
   "source": [
    "# ex4_2 氣泡排序法 (bubble sort)\n",
    "### 將講義上的範例實際寫成程式碼\n",
    "- 有 n 個資料長度，但只要執行 n-1 次\n",
    "- 從第1個開始比較直到最後一個還沒到最終位置的數字\n",
    "- 比大小然後互換\n",
    "- 輸出每個步驟如下"
   ]
  },
  {
   "cell_type": "raw",
   "metadata": {},
   "source": [
    "Original: [4, -15, 20, 13, -6]\n",
    "step: 1   [-15, 4, 13, -6, 20]\n",
    "step: 2   [-15, 4, -6, 13, 20]\n",
    "step: 3   [-15, -6, 4, 13, 20]\n",
    "step: 4   [-15, -6, 4, 13, 20]"
   ]
  },
  {
   "cell_type": "code",
   "execution_count": null,
   "metadata": {},
   "outputs": [],
   "source": [
    "a = [4,-15,20,13,-6]\n",
    "# a = [89, 34, 23, 78, 67, 100, 66, 29, 79, 55, 78, 88, 92, 96, 96, 23]\n",
    "a"
   ]
  },
  {
   "cell_type": "code",
   "execution_count": null,
   "metadata": {},
   "outputs": [],
   "source": [
    "print ('Original:',a) \n",
    "#add your code below\n",
    "for i in range(1,len(a),1):\n",
    "    for j in range(0,len(a)-i,1):\n",
    "        if a[j]>a[j+1]:\n",
    "            tmp=a[j+1]\n",
    "            a[j+1]=a[j]\n",
    "            a[j]=tmp\n",
    "    print(f\"step: {i}  \",a)\n"
   ]
  },
  {
   "cell_type": "code",
   "execution_count": null,
   "metadata": {},
   "outputs": [],
   "source": [
    "# 0-based\n",
    "print ('Original:',a) \n",
    "#add your code below\n",
    "for i in range(0,len(a)-1):\n",
    "    for j in range(0,len(a)-i-1):\n",
    "        if a[j]>a[j+1]:\n",
    "            tmp=a[j+1]\n",
    "            a[j+1]=a[j]\n",
    "            a[j]=tmp\n",
    "            # a,b=b,a\n",
    "    print(f\"step: {i+1}  \",a)\n"
   ]
  },
  {
   "cell_type": "markdown",
   "metadata": {},
   "source": [
    "# ex4_3 將下列一維List整合成二維List\n",
    "### students=[[name, weight, height, score],[name,.........].....]\n"
   ]
  },
  {
   "cell_type": "raw",
   "metadata": {},
   "source": [
    "expected answer:\n",
    "[['alan', 75.5, 177, 83], ['bob', 80.1, 185, 76], ['charlie', 66.8, 170, 91], ['eric', 90.6, 172, 67], ['frank', 82.0, 166, 55]]"
   ]
  },
  {
   "cell_type": "code",
   "execution_count": null,
   "metadata": {},
   "outputs": [],
   "source": [
    "score=[83,76,91,67,55]\n",
    "name=['alan','bob','charlie','eric','frank']\n",
    "weight=[75.5,80.1,66.8,90.6,82.0]\n",
    "height=[177,185,170,172,166]"
   ]
  },
  {
   "cell_type": "code",
   "execution_count": null,
   "metadata": {},
   "outputs": [],
   "source": [
    "\n",
    "#add your code below\n",
    "data = [[name[i], weight[i], height[i], score[i]] for i in range(5)]\n"
   ]
  },
  {
   "cell_type": "code",
   "execution_count": null,
   "metadata": {},
   "outputs": [],
   "source": [
    "data"
   ]
  },
  {
   "cell_type": "code",
   "execution_count": null,
   "metadata": {},
   "outputs": [],
   "source": [
    "import pandas as pd\n",
    "data=pd.Dataframe(data)"
   ]
  }
 ],
 "metadata": {
  "kernelspec": {
   "display_name": "Python 3",
   "language": "python",
   "name": "python3"
  },
  "language_info": {
   "codemirror_mode": {
    "name": "ipython",
    "version": 3
   },
   "file_extension": ".py",
   "mimetype": "text/x-python",
   "name": "python",
   "nbconvert_exporter": "python",
   "pygments_lexer": "ipython3",
   "version": "3.10.13"
  },
  "varInspector": {
   "cols": {
    "lenName": 16,
    "lenType": 16,
    "lenVar": 40
   },
   "kernels_config": {
    "python": {
     "delete_cmd_postfix": "",
     "delete_cmd_prefix": "del ",
     "library": "var_list.py",
     "varRefreshCmd": "print(var_dic_list())"
    },
    "r": {
     "delete_cmd_postfix": ") ",
     "delete_cmd_prefix": "rm(",
     "library": "var_list.r",
     "varRefreshCmd": "cat(var_dic_list()) "
    }
   },
   "types_to_exclude": [
    "module",
    "function",
    "builtin_function_or_method",
    "instance",
    "_Feature"
   ],
   "window_display": false
  }
 },
 "nbformat": 4,
 "nbformat_minor": 2
}
