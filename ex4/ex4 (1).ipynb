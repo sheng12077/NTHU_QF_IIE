{
 "cells": [
  {
   "cell_type": "markdown",
   "metadata": {},
   "source": [
    "# ex4_1:串列的函式與方法(function and method)\n",
    "### 將講義上的範例實際練習一次"
   ]
  },
  {
   "cell_type": "code",
   "execution_count": 13,
   "metadata": {},
   "outputs": [],
   "source": [
    "lst1=[10,20,30,40,50]"
   ]
  },
  {
   "cell_type": "code",
   "execution_count": 14,
   "metadata": {},
   "outputs": [
    {
     "name": "stdout",
     "output_type": "stream",
     "text": [
      "5\n"
     ]
    }
   ],
   "source": [
    "num=len(lst1)\n",
    "print(num)"
   ]
  },
  {
   "cell_type": "code",
   "execution_count": 15,
   "metadata": {},
   "outputs": [],
   "source": [
    "total=0\n",
    "for i in range(len(lst1)):\n",
    "    total+=lst1[i]"
   ]
  },
  {
   "cell_type": "code",
   "execution_count": 16,
   "metadata": {},
   "outputs": [
    {
     "data": {
      "text/plain": [
       "150"
      ]
     },
     "execution_count": 16,
     "metadata": {},
     "output_type": "execute_result"
    }
   ],
   "source": [
    "total"
   ]
  },
  {
   "cell_type": "code",
   "execution_count": 17,
   "metadata": {},
   "outputs": [],
   "source": [
    "lst1.append(66)\n",
    "lst1.insert(2,77)\n",
    "lst1.pop()\n",
    "lst1.pop(3)\n",
    "lst1.remove(20)"
   ]
  },
  {
   "cell_type": "code",
   "execution_count": 27,
   "metadata": {},
   "outputs": [
    {
     "data": {
      "text/plain": [
       "[10, 77, 40, 50]"
      ]
     },
     "execution_count": 27,
     "metadata": {},
     "output_type": "execute_result"
    }
   ],
   "source": [
    "lst1"
   ]
  },
  {
   "cell_type": "code",
   "execution_count": 29,
   "metadata": {},
   "outputs": [
    {
     "data": {
      "text/plain": [
       "2"
      ]
     },
     "execution_count": 29,
     "metadata": {},
     "output_type": "execute_result"
    }
   ],
   "source": [
    "n1=lst1.index(40)\n",
    "n1"
   ]
  },
  {
   "cell_type": "code",
   "execution_count": 30,
   "metadata": {},
   "outputs": [
    {
     "data": {
      "text/plain": [
       "1"
      ]
     },
     "execution_count": 30,
     "metadata": {},
     "output_type": "execute_result"
    }
   ],
   "source": [
    "n2=lst1.count(10)\n",
    "n2"
   ]
  },
  {
   "cell_type": "code",
   "execution_count": 35,
   "metadata": {},
   "outputs": [],
   "source": [
    "lst2=[11,22,33,44,55,66,77]\n",
    "del lst2[3]\n",
    "del lst2[1:5]\n",
    "del lst2[1:5:2]\n",
    "del lst2[:]"
   ]
  },
  {
   "cell_type": "code",
   "execution_count": 36,
   "metadata": {},
   "outputs": [],
   "source": [
    "lst1.clear()"
   ]
  },
  {
   "cell_type": "markdown",
   "metadata": {},
   "source": [
    "# ex4_2 氣泡排序法 (bubble sort)\n",
    "### 將講義上的範例實際寫成程式碼\n",
    "- 有 n 個資料長度，但只要執行 n-1 次\n",
    "- 從第1個開始比較直到最後一個還沒到最終位置的數字\n",
    "- 比大小然後互換\n",
    "- 輸出每個步驟如下"
   ]
  },
  {
   "cell_type": "raw",
   "metadata": {},
   "source": [
    "Original: [4, -15, 20, 13, -6]\n",
    "step: 1   [-15, 4, 13, -6, 20]\n",
    "step: 2   [-15, 4, -6, 13, 20]\n",
    "step: 3   [-15, -6, 4, 13, 20]\n",
    "step: 4   [-15, -6, 4, 13, 20]"
   ]
  },
  {
   "cell_type": "code",
   "execution_count": 18,
   "metadata": {},
   "outputs": [
    {
     "data": {
      "text/plain": [
       "[4, -15, 20, 13, -6]"
      ]
     },
     "execution_count": 18,
     "metadata": {},
     "output_type": "execute_result"
    }
   ],
   "source": [
    "a = [4,-15,20,13,-6]\n",
    "# a = [89, 34, 23, 78, 67, 100, 66, 29, 79, 55, 78, 88, 92, 96, 96, 23]\n",
    "a"
   ]
  },
  {
   "cell_type": "code",
   "execution_count": 19,
   "metadata": {},
   "outputs": [
    {
     "name": "stdout",
     "output_type": "stream",
     "text": [
      "Original: [4, -15, 20, 13, -6]\n",
      "step: 1   [-15, 4, 13, -6, 20]\n",
      "step: 2   [-15, 4, -6, 13, 20]\n",
      "step: 3   [-15, -6, 4, 13, 20]\n",
      "step: 4   [-15, -6, 4, 13, 20]\n"
     ]
    }
   ],
   "source": [
    "print ('Original:',a) \n",
    "#add your code below\n",
    "for i in range(1,len(a),1):\n",
    "    for j in range(0,len(a)-i,1):\n",
    "        if a[j]>a[j+1]:\n",
    "            tmp=a[j+1]\n",
    "            a[j+1]=a[j]\n",
    "            a[j]=tmp\n",
    "    print(f\"step: {i}  \",a)\n"
   ]
  },
  {
   "cell_type": "code",
   "execution_count": 20,
   "metadata": {},
   "outputs": [
    {
     "name": "stdout",
     "output_type": "stream",
     "text": [
      "Original: [-15, -6, 4, 13, 20]\n",
      "step: 1   [-15, -6, 4, 13, 20]\n",
      "step: 2   [-15, -6, 4, 13, 20]\n",
      "step: 3   [-15, -6, 4, 13, 20]\n",
      "step: 4   [-15, -6, 4, 13, 20]\n"
     ]
    }
   ],
   "source": [
    "# 0-based\n",
    "print ('Original:',a) \n",
    "#add your code below\n",
    "for i in range(0,len(a)-1):\n",
    "    for j in range(0,len(a)-i-1):\n",
    "        if a[j]>a[j+1]:\n",
    "            tmp=a[j+1]\n",
    "            a[j+1]=a[j]\n",
    "            a[j]=tmp\n",
    "            # a,b=b,a\n",
    "    print(f\"step: {i+1}  \",a)\n"
   ]
  },
  {
   "cell_type": "markdown",
   "metadata": {},
   "source": [
    "# ex4_3 將下列一維List整合成二維List\n",
    "### students=[[name, weight, height, score],[name,.........].....]\n"
   ]
  },
  {
   "cell_type": "raw",
   "metadata": {},
   "source": [
    "expected answer:\n",
    "[['alan', 75.5, 177, 83], ['bob', 80.1, 185, 76], ['charlie', 66.8, 170, 91], ['eric', 90.6, 172, 67], ['frank', 82.0, 166, 55]]"
   ]
  },
  {
   "cell_type": "code",
   "execution_count": 21,
   "metadata": {},
   "outputs": [],
   "source": [
    "score=[83,76,91,67,55]\n",
    "name=['alan','bob','charlie','eric','frank']\n",
    "weight=[75.5,80.1,66.8,90.6,82.0]\n",
    "height=[177,185,170,172,166]"
   ]
  },
  {
   "cell_type": "code",
   "execution_count": 22,
   "metadata": {},
   "outputs": [],
   "source": [
    "#add your code below\n",
    "data=[[name[i],weight[i],height[i],score[i]] for i in range(5)]\n"
   ]
  },
  {
   "cell_type": "code",
   "execution_count": 23,
   "metadata": {},
   "outputs": [
    {
     "data": {
      "text/plain": [
       "[['alan', 75.5, 177, 83],\n",
       " ['bob', 80.1, 185, 76],\n",
       " ['charlie', 66.8, 170, 91],\n",
       " ['eric', 90.6, 172, 67],\n",
       " ['frank', 82.0, 166, 55]]"
      ]
     },
     "execution_count": 23,
     "metadata": {},
     "output_type": "execute_result"
    }
   ],
   "source": [
    "data"
   ]
  },
  {
   "cell_type": "code",
   "execution_count": 24,
   "metadata": {},
   "outputs": [],
   "source": [
    "import pandas as pd\n",
    "df=pd.DataFrame(data)"
   ]
  },
  {
   "cell_type": "code",
   "execution_count": 25,
   "metadata": {},
   "outputs": [
    {
     "data": {
      "text/html": [
       "<div>\n",
       "<style scoped>\n",
       "    .dataframe tbody tr th:only-of-type {\n",
       "        vertical-align: middle;\n",
       "    }\n",
       "\n",
       "    .dataframe tbody tr th {\n",
       "        vertical-align: top;\n",
       "    }\n",
       "\n",
       "    .dataframe thead th {\n",
       "        text-align: right;\n",
       "    }\n",
       "</style>\n",
       "<table border=\"1\" class=\"dataframe\">\n",
       "  <thead>\n",
       "    <tr style=\"text-align: right;\">\n",
       "      <th></th>\n",
       "      <th>0</th>\n",
       "      <th>1</th>\n",
       "      <th>2</th>\n",
       "      <th>3</th>\n",
       "    </tr>\n",
       "  </thead>\n",
       "  <tbody>\n",
       "    <tr>\n",
       "      <th>0</th>\n",
       "      <td>alan</td>\n",
       "      <td>75.5</td>\n",
       "      <td>177</td>\n",
       "      <td>83</td>\n",
       "    </tr>\n",
       "    <tr>\n",
       "      <th>1</th>\n",
       "      <td>bob</td>\n",
       "      <td>80.1</td>\n",
       "      <td>185</td>\n",
       "      <td>76</td>\n",
       "    </tr>\n",
       "    <tr>\n",
       "      <th>2</th>\n",
       "      <td>charlie</td>\n",
       "      <td>66.8</td>\n",
       "      <td>170</td>\n",
       "      <td>91</td>\n",
       "    </tr>\n",
       "    <tr>\n",
       "      <th>3</th>\n",
       "      <td>eric</td>\n",
       "      <td>90.6</td>\n",
       "      <td>172</td>\n",
       "      <td>67</td>\n",
       "    </tr>\n",
       "    <tr>\n",
       "      <th>4</th>\n",
       "      <td>frank</td>\n",
       "      <td>82.0</td>\n",
       "      <td>166</td>\n",
       "      <td>55</td>\n",
       "    </tr>\n",
       "  </tbody>\n",
       "</table>\n",
       "</div>"
      ],
      "text/plain": [
       "         0     1    2   3\n",
       "0     alan  75.5  177  83\n",
       "1      bob  80.1  185  76\n",
       "2  charlie  66.8  170  91\n",
       "3     eric  90.6  172  67\n",
       "4    frank  82.0  166  55"
      ]
     },
     "execution_count": 25,
     "metadata": {},
     "output_type": "execute_result"
    }
   ],
   "source": [
    "df"
   ]
  }
 ],
 "metadata": {
  "kernelspec": {
   "display_name": "Python 3",
   "language": "python",
   "name": "python3"
  },
  "language_info": {
   "codemirror_mode": {
    "name": "ipython",
    "version": 3
   },
   "file_extension": ".py",
   "mimetype": "text/x-python",
   "name": "python",
   "nbconvert_exporter": "python",
   "pygments_lexer": "ipython3",
   "version": "3.10.13"
  },
  "varInspector": {
   "cols": {
    "lenName": 16,
    "lenType": 16,
    "lenVar": 40
   },
   "kernels_config": {
    "python": {
     "delete_cmd_postfix": "",
     "delete_cmd_prefix": "del ",
     "library": "var_list.py",
     "varRefreshCmd": "print(var_dic_list())"
    },
    "r": {
     "delete_cmd_postfix": ") ",
     "delete_cmd_prefix": "rm(",
     "library": "var_list.r",
     "varRefreshCmd": "cat(var_dic_list()) "
    }
   },
   "types_to_exclude": [
    "module",
    "function",
    "builtin_function_or_method",
    "instance",
    "_Feature"
   ],
   "window_display": false
  }
 },
 "nbformat": 4,
 "nbformat_minor": 2
}
